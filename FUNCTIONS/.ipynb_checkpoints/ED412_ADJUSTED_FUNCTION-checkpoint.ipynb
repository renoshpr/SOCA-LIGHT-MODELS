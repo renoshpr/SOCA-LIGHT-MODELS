{
 "cells": [
  {
   "cell_type": "code",
   "execution_count": null,
   "id": "22bf40fb-eeab-4356-b48b-3c85df5a3521",
   "metadata": {},
   "outputs": [],
   "source": []
  },
  {
   "cell_type": "markdown",
   "id": "366d333e-3fbc-470e-bd6a-8ef2e1eee267",
   "metadata": {},
   "source": [
    "<center><h1> Function to extract ED412_ADJUSTED profile from Temperature, Salinity profiles and corresponding Satellite Ocean Color Matchups </h1></center>\n",
    "\n"
   ]
  },
  {
   "cell_type": "markdown",
   "id": "ce2ba359-8ae7-4b86-9dcc-4d2c34613422",
   "metadata": {},
   "source": [
    "<div style=\"text-align: right\"><i> Renosh - Nov 2023 </i></div>\n",
    "<div style=\"text-align: right\"><i> Email: renosh.pr@imev-mer.fr </i></div>\n",
    "<div style=\"text-align: right\"><i> Email: pr.renosh@gmail.com </i></div>"
   ]
  },
  {
   "cell_type": "code",
   "execution_count": 3,
   "id": "3c28c164-4575-44a1-8ef4-0c4995ff732c",
   "metadata": {},
   "outputs": [],
   "source": [
    "import warnings\n",
    "warnings.filterwarnings('ignore')"
   ]
  },
  {
   "cell_type": "code",
   "execution_count": null,
   "id": "dff3d3bc-8fe9-4683-9fd9-ecc01e48abc5",
   "metadata": {},
   "outputs": [],
   "source": []
  },
  {
   "cell_type": "markdown",
   "id": "7ba3fcba-ca67-4be3-845d-272fed78cf0a",
   "metadata": {},
   "source": [
    "## 1) Load all libraries"
   ]
  },
  {
   "cell_type": "code",
   "execution_count": 7,
   "id": "97889879-b566-4316-bbed-d54437627a94",
   "metadata": {},
   "outputs": [],
   "source": [
    "#######################################################################################\n",
    "#######################################################################################\n",
    "# Load all the libraries\n",
    "import sys\n",
    "import pathlib\n",
    "from pathlib import Path\n",
    "import pickle\n",
    "import os\n",
    "import numpy as np\n",
    "import pandas as pd\n",
    "from netCDF4 import Dataset as NetCDFFile \n",
    "import import_ipynb\n",
    "from datetime import date, datetime, timedelta\n",
    "import datetime as dt\n",
    "# import oceans.sw_extras as swe\n",
    "import gsw\n",
    "import matplotlib.pyplot as plt\n",
    "import timezonefinder, pytz\n",
    "tf = timezonefinder.TimezoneFinder()\n",
    "#######################################################################################\n",
    "#######################################################################################"
   ]
  },
  {
   "cell_type": "code",
   "execution_count": null,
   "id": "ef67ee9c-4ebb-4eef-a239-9b4c638efa04",
   "metadata": {},
   "outputs": [],
   "source": []
  },
  {
   "cell_type": "markdown",
   "id": "0db3f9c1-b2e2-4da1-b493-abd39c16627e",
   "metadata": {},
   "source": [
    "## 2) Light model paths"
   ]
  },
  {
   "cell_type": "code",
   "execution_count": 8,
   "id": "eea8c3cb-7a90-4879-b448-e55305a4c9e3",
   "metadata": {},
   "outputs": [],
   "source": [
    "#######################################################################################\n",
    "#######################################################################################\n",
    "\n",
    "# MODEL PATH---->\n",
    "\n",
    "# get the current working directory\n",
    "curr_work_dir = Path.cwd()\n",
    "# home_dir = os.path.normpath(os.getcwd() + os.sep + os.pardir)\n",
    "# print output to the console\n",
    "# print(curr_work_dir)\n",
    "MODEL_PATH = (''.join([str(curr_work_dir),'/MODELS/ED412_2023_MODELS']))\n",
    "# MODEL_PATH = (''.join([str(home_dir),'/MODELS/PAR_2023_MODELS']))\n",
    "\n",
    "#######################################################################################\n",
    "# Lad the PCAs model\n",
    "# No need to change anything in this section by the user\n",
    "pkl_filename_temp_pca = ''.join([str(MODEL_PATH),str(\"/temp_pca_51.pkl\")])\n",
    "pca_temp = pickle.load(open(pkl_filename_temp_pca, \"rb\"))\n",
    "\n",
    "pkl_filename_sal_pca = ''.join([str(MODEL_PATH),str(\"/sal_pca_51.pkl\")])\n",
    "pca_sal = pickle.load(open(pkl_filename_sal_pca, \"rb\"))\n",
    "\n",
    "#######################################################################################\n",
    "# Load the x-scaler from the folder \n",
    "# No need to change anything in this section by the user\n",
    "pkl_filename_x_scaler = ''.join([str(MODEL_PATH),str(\"/x_scaler.pkl\")]) \n",
    "x_scaler = pickle.load(open(pkl_filename_x_scaler, 'rb')) \n",
    "# Load the x-scaler from the file \n",
    "pkl_filename_y_scaler = ''.join([str(MODEL_PATH),str(\"/y_scaler.pkl\")])\n",
    "y_scaler = pickle.load(open(pkl_filename_y_scaler, 'rb'))\n",
    "#######################################################################################\n",
    "#######################################################################################\n"
   ]
  },
  {
   "cell_type": "code",
   "execution_count": null,
   "id": "32f7dc12-2541-46c8-b70f-4e40e206abed",
   "metadata": {},
   "outputs": [],
   "source": []
  },
  {
   "cell_type": "markdown",
   "id": "dcfd2553-0201-4752-845c-99728436f904",
   "metadata": {},
   "source": [
    "## 3) Light model Functions"
   ]
  },
  {
   "cell_type": "code",
   "execution_count": 1,
   "id": "0c9d1294-b9c5-469e-aa72-9de80a657770",
   "metadata": {},
   "outputs": [],
   "source": [
    "#######################################################################################\n",
    "#######################################################################################\n",
    "# No need to change anything in this section by the user\n",
    "# CREATE SCALED INPUTS\n",
    "def INPUTS_ED412_ADJUSTED_2023(PAR, MLD, ZPD_MOREL, RHO_WN_412, RHO_WN_443, RHO_WN_490, RHO_WN_555, RHO_WN_670,\n",
    "                               sin_doy, cos_doy, sin_LC_hour, cos_LC_hour, temp_cmems, sal_cmems, depths_cmems, depth_output):\n",
    "                          \n",
    "    \n",
    "    INPUTS1 = [PAR, MLD, ZPD_MOREL, RHO_WN_412, RHO_WN_443, RHO_WN_490, RHO_WN_555, RHO_WN_670,\n",
    "              sin_doy, cos_doy, sin_LC_hour, cos_LC_hour]\n",
    "    \n",
    "    temp_51 = np.interp(depth_output, depths_cmems, temp_cmems) # made into 51 depths\n",
    "    temp_51 = temp_51.reshape(-1, 1)\n",
    "    sal_51 = np.interp(depth_output, depths_cmems, sal_cmems) # made into 51 depths\n",
    "    sal_51 = sal_51.reshape(-1, 1) \n",
    "    \n",
    "       \n",
    "\n",
    "    # Apply PCA on temperature, salinity and spiciness profiles to get the principal components\n",
    "    PrincipalComponentsTemp_Test = pca_temp.transform(np.transpose(temp_51))[:,:5]\n",
    "    principalComponentsSal_Test = pca_sal.transform(np.transpose(sal_51))[:,:4]   \n",
    "\n",
    "         \n",
    "    INPUTS = INPUTS1 + np.concatenate(PrincipalComponentsTemp_Test).ravel().tolist() + np.concatenate(principalComponentsSal_Test).ravel().tolist()\n",
    "    \n",
    "\n",
    "    input_features = ['PAR','MLD', 'ZPD_MOREL', 'RHO_WN_412','RHO_WN_443','RHO_WN_490','RHO_WN_555', 'RHO_WN_670',\n",
    "                      'sin_doy', 'cos_doy','sin_LC_hour', 'cos_LC_hour',\n",
    "#                       'x_cart', 'y_cart', 'z_cart',\n",
    "                      'TEMP_PC_N_0', 'TEMP_PC_N_1', 'TEMP_PC_N_2', 'TEMP_PC_N_3','TEMP_PC_N_4',\n",
    "                      'SAL_PC_N_0', 'SAL_PC_N_1', 'SAL_PC_N_2','SAL_PC_N_3']\n",
    "\n",
    "    INPUTS = pd.DataFrame(INPUTS)\n",
    "    INPUTS = INPUTS.transpose()    \n",
    "    INPUTS.columns = input_features\n",
    "    INPUTS_scaled = pd.DataFrame(x_scaler.transform(INPUTS), columns=INPUTS.columns)\n",
    "    \n",
    "    return INPUTS_scaled\n",
    "#######################################################################################\n",
    "# No need to change anything in this section by the user\n",
    "# FUNCTION to derive ED412_ADJUSTED profile\n",
    "def SOCA_ED412_ADJUSTED_2023(INPUTS_ED412_ADJUSTED_2023,depth_output):\n",
    "    \n",
    "    n_sample = INPUTS_ED412_ADJUSTED_2023.shape[0]\n",
    "    YPRED_TOTAL = pd.DataFrame()\n",
    "    # YPRED_KD_TOTAL = pd.DataFrame()\n",
    "    nc1 = [70,98,103,115,120,134,135,139,142,143]    \n",
    "    # nc2 = [59,62,16,33,15,46,34,36,77,48]\n",
    "    \n",
    "    for x in np.arange(len(nc1)):\n",
    "        pkl_filename = ''.join([str(MODEL_PATH),str(\"/pickle_model_ED412_2023_\"),str(x),str(\".pkl\")])\n",
    "        MLP = pickle.load(open(pkl_filename, 'rb'))\n",
    " \n",
    "        # Apply MLP to the test dataset\n",
    "        ypred_scaled = MLP.predict(INPUTS_ED412_ADJUSTED_2023)\n",
    "        \n",
    "        # Detransform the outputs:\n",
    "        ypred = pd.DataFrame(\n",
    "            y_scaler.inverse_transform(ypred_scaled),\n",
    "#             columns=np.arange(25),\n",
    "            columns=np.arange(51),\n",
    "            index=np.arange(n_sample)\n",
    "        )\n",
    "\n",
    "        # make vectors\n",
    "        ED412_PRED = ypred \n",
    "        ED412_PRED_vec = ED412_PRED.values.ravel()  \n",
    "        ED412_PRED_vec = pow(10,ED412_PRED_vec)        \n",
    "#         ypred_vec = ypred.values.ravel()\n",
    "        YPRED_TOTAL = pd.concat([YPRED_TOTAL, pd.DataFrame(ED412_PRED_vec)], axis=1)\n",
    "        #       \n",
    "   \n",
    "       \n",
    "    soca_ed412=np.mean(YPRED_TOTAL, axis=1)\n",
    "    soca_ed412_err=np.std(YPRED_TOTAL, axis=1)    \n",
    "   \n",
    "    return soca_ed412, soca_ed412_err\n",
    "#######################################################################################\n",
    "# Function to derive ED412_ADJUSTED Profiles\n",
    "# No need to change anything in this section by the user\n",
    "# This function call 2 functions INPUTS_ED412_ADJUSTED_2023 & SOCA_ED412_ADJUSTED_2023\n",
    "def ED412_ADJUSTED_profiles(PAR, MLD, ZPD, RHO_WN_412, RHO_WN_443, RHO_WN_490, RHO_WN_555, RHO_WN_670,\n",
    "                                                        sin_doy, cos_doy, sin_LC_hour, cos_LC_hour, temp, sal, depths_argo, depth_output):\n",
    "    \n",
    "    soca_ed412_adjusted_inputs = INPUTS_ED412_ADJUSTED_2023(PAR, MLD, ZPD, RHO_WN_412, RHO_WN_443, RHO_WN_490, RHO_WN_555, RHO_WN_670,\n",
    "                                                        sin_doy, cos_doy, sin_LC_hour, cos_LC_hour, temp, sal, depths_argo, depth_output)\n",
    "    \n",
    "    ed412_soca =  SOCA_ED412_ADJUSTED_2023(soca_ed412_adjusted_inputs,depth_output)[0]   \n",
    "    ed412_soca_err =  SOCA_ED412_ADJUSTED_2023(soca_ed412_adjusted_inputs,depth_output)[1]\n",
    "    \n",
    "    return ed412_soca, ed412_soca_err   \n",
    "#######################################################################################\n",
    "#######################################################################################\n"
   ]
  },
  {
   "cell_type": "code",
   "execution_count": null,
   "id": "17dc3a98-7db4-486d-8d3a-6484de99b309",
   "metadata": {},
   "outputs": [],
   "source": []
  }
 ],
 "metadata": {
  "kernelspec": {
   "display_name": "PROJ_1",
   "language": "python",
   "name": "proj_1"
  },
  "language_info": {
   "codemirror_mode": {
    "name": "ipython",
    "version": 3
   },
   "file_extension": ".py",
   "mimetype": "text/x-python",
   "name": "python",
   "nbconvert_exporter": "python",
   "pygments_lexer": "ipython3",
   "version": "3.11.4"
  }
 },
 "nbformat": 4,
 "nbformat_minor": 5
}
