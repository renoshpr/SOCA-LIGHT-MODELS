{
 "cells": [
  {
   "cell_type": "code",
   "execution_count": null,
   "id": "2de48e1e-533d-415c-bb88-0157b903baaf",
   "metadata": {},
   "outputs": [],
   "source": []
  },
  {
   "cell_type": "markdown",
   "id": "ca1b346a-a99f-4b52-bbd5-c356790ab62e",
   "metadata": {},
   "source": [
    "<center><h1> Functions other than light model (DOY, LC, ZPD, and MLD) </h1></center>\n"
   ]
  },
  {
   "cell_type": "markdown",
   "id": "bcc8f427-4fb4-4523-99c1-761bcd57d02a",
   "metadata": {},
   "source": [
    "<div style=\"text-align: right\"><i> Renosh - Nov 2023 </i></div>"
   ]
  },
  {
   "cell_type": "code",
   "execution_count": null,
   "id": "c19c1681-2ddb-424f-8a46-69bc2911330c",
   "metadata": {},
   "outputs": [],
   "source": []
  },
  {
   "cell_type": "markdown",
   "id": "029526e6-5cf8-4c2a-9ac2-affe37bea8ff",
   "metadata": {},
   "source": [
    "## 2) Functions other than light model (DOY, LC, ZPD, and MLD)"
   ]
  },
  {
   "cell_type": "code",
   "execution_count": 1,
   "id": "96e566fc-eb9a-48e3-a853-2598f900fc7c",
   "metadata": {},
   "outputs": [],
   "source": [
    "#######################################################################################\n",
    "#######################################################################################\n",
    "# Function to convert DOY into Radians\n",
    "# No need to change anything in this section by the user\n",
    "def rad_date(date):\n",
    "    date_radians = (date*np.pi)/182.5\n",
    "    return date_radians\n",
    "#######################################################################################\n",
    "#######################################################################################\n",
    "# Function to convert Local Hour into Radians\n",
    "# No need to change anything in this section by the user\n",
    "def rad_LC_hour(LC_hour):\n",
    "    LC_hour_radians = (LC_hour*np.pi)/12 # \n",
    "    return LC_hour_radians\n",
    "#######################################################################################\n",
    "# Function to derive ZPD from KD490\n",
    "# No need to change anything in this section by the user\n",
    "def derive_ZPD(KD490):\n",
    "    ZPD = 1/KD490 \n",
    "    return ZPD\n",
    "#######################################################################################\n",
    "############################################################\n",
    "##  function TO FIND THE MIXED LAYER DEPTH (DEBOYER)       ##\n",
    "#############################################################\n",
    "# No need to change anything in this section by the user\n",
    "# Ref: DeBoyer Montegut et al. 2004\n",
    "# Usual global threshold 0.03\n",
    "def find_MLD(Z, dens, threshold):\n",
    "    Zmax = np.nanmax(Z)\n",
    "    Zint = np.arange(0, Zmax+1,1)\n",
    "    \n",
    "    dens1 = dens[~np.isnan(dens)]\n",
    "    pres1= Z[~np.isnan(dens)]\n",
    "    if (Zmax <20): \n",
    "        MLD = np.nan\n",
    "    else:\n",
    "    \n",
    "        D = np.interp(Zint, pres1, dens1)\n",
    "        delta = D - D[21]\n",
    "        MLD1 = Zint[(abs(delta) > threshold) & (Zint >= 10)]\n",
    "\n",
    "        if (np.size(MLD1)<1):\n",
    "            MLD = np.nan\n",
    "        else:\n",
    "            MLD = np.nanmin(MLD1)\n",
    "    return MLD\n",
    "#######################################################################################\n",
    "#######################################################################################"
   ]
  },
  {
   "cell_type": "code",
   "execution_count": null,
   "id": "8ee4134b-9b48-4825-9f04-b28cea031ad8",
   "metadata": {},
   "outputs": [],
   "source": []
  }
 ],
 "metadata": {
  "kernelspec": {
   "display_name": "PROJ_1",
   "language": "python",
   "name": "proj_1"
  },
  "language_info": {
   "codemirror_mode": {
    "name": "ipython",
    "version": 3
   },
   "file_extension": ".py",
   "mimetype": "text/x-python",
   "name": "python",
   "nbconvert_exporter": "python",
   "pygments_lexer": "ipython3",
   "version": "3.11.4"
  }
 },
 "nbformat": 4,
 "nbformat_minor": 5
}
